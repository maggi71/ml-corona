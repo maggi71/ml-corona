{
 "cells": [
  {
   "cell_type": "markdown",
   "metadata": {},
   "source": [
    "# Anwendung und Vergleich von Machine Learning und Deep Learning Algorithmen zur Vorhersage von COVID-19 Kennzahlen"
   ]
  },
  {
   "cell_type": "markdown",
   "metadata": {},
   "source": [
    "## Regression\n",
    "Mit einer Regression werden mit unabhängigen Variabeln $x^{n}$ abhängige Variabeln $y^{n}$ beschrieben. Die unabhängigen Variabeln sind numerisch. \n",
    "Die lineare Regression ist die einfachste Art der Regression. Sie geht davon aus dass die Beziehung linear ist. \n",
    "Bei der Polynomregression werden die Polynome von x verwendet: ${x}$, $x^{2}$, $x^{3}$..."
   ]
  },
  {
   "cell_type": "markdown",
   "metadata": {},
   "source": [
    "## Imports"
   ]
  },
  {
   "cell_type": "code",
   "execution_count": 1,
   "metadata": {},
   "outputs": [],
   "source": [
    "import numpy as np\n",
    "import pandas as pd\n",
    "import matplotlib.pyplot as plt\n",
    "import seaborn as sns\n",
    "\n",
    "from sklearn.preprocessing import RobustScaler\n",
    "from sklearn.metrics import mean_squared_error\n",
    "from sklearn.model_selection import cross_val_score\n",
    "\n",
    "from sklearn.preprocessing import PolynomialFeatures\n",
    "from sklearn.linear_model import LinearRegression\n",
    "from sklearn.linear_model import Ridge\n",
    "from sklearn.neighbors import KNeighborsRegressor\n",
    "\n",
    "import plotly.graph_objs as go\n",
    "from ipywidgets import interact\n",
    "\n",
    "%matplotlib inline"
   ]
  },
  {
   "cell_type": "markdown",
   "metadata": {},
   "source": [
    "# Konfiguration\n",
    "Auf Windows funtktioniert eine relative Pfadangabe nicht. Darum untenstehende Konfiguration des absoluten Pfades wo das Projekt abgelegt ist.\n"
   ]
  },
  {
   "cell_type": "code",
   "execution_count": 4,
   "metadata": {},
   "outputs": [],
   "source": [
    "#Path to raw_data -> change it localy\n",
    "root_path =  \"C:/Users/marco/IdeaProjects/ml-corona/\""
   ]
  },
  {
   "cell_type": "markdown",
   "metadata": {},
   "source": [
    "## Laden der Daten"
   ]
  },
  {
   "cell_type": "code",
   "execution_count": 6,
   "metadata": {},
   "outputs": [],
   "source": [
    "# Load the data from disk\n",
    "X_train = np.load(root_path +'preprocessing/X_train.npy')\n",
    "X_test = np.load(root_path +'preprocessing/X_test.npy')\n",
    "y_train = np.load(root_path +'preprocessing/y_train.npy')\n",
    "y_test = np.load(root_path +'preprocessing/y_test.npy')"
   ]
  },
  {
   "cell_type": "markdown",
   "metadata": {},
   "source": [
    "## Modelle"
   ]
  },
  {
   "cell_type": "markdown",
   "metadata": {},
   "source": [
    "### Lineare Regression"
   ]
  },
  {
   "cell_type": "code",
   "execution_count": 7,
   "metadata": {},
   "outputs": [
    {
     "name": "stderr",
     "output_type": "stream",
     "text": [
      "C:\\Users\\marco\\anaconda3\\lib\\site-packages\\sklearn\\linear_model\\_base.py:141: FutureWarning: 'normalize' was deprecated in version 1.0 and will be removed in 1.2.\n",
      "If you wish to scale the data, use Pipeline with a StandardScaler in a preprocessing stage. To reproduce the previous behavior:\n",
      "\n",
      "from sklearn.pipeline import make_pipeline\n",
      "\n",
      "model = make_pipeline(StandardScaler(with_mean=False), LinearRegression())\n",
      "\n",
      "If you wish to pass a sample_weight parameter, you need to pass it as a fit parameter to each step of the pipeline as follows:\n",
      "\n",
      "kwargs = {s[0] + '__sample_weight': sample_weight for s in model.steps}\n",
      "model.fit(X, y, **kwargs)\n",
      "\n",
      "\n",
      "  warnings.warn(\n",
      "C:\\Users\\marco\\anaconda3\\lib\\site-packages\\sklearn\\linear_model\\_base.py:141: FutureWarning: 'normalize' was deprecated in version 1.0 and will be removed in 1.2.\n",
      "If you wish to scale the data, use Pipeline with a StandardScaler in a preprocessing stage. To reproduce the previous behavior:\n",
      "\n",
      "from sklearn.pipeline import make_pipeline\n",
      "\n",
      "model = make_pipeline(StandardScaler(with_mean=False), LinearRegression())\n",
      "\n",
      "If you wish to pass a sample_weight parameter, you need to pass it as a fit parameter to each step of the pipeline as follows:\n",
      "\n",
      "kwargs = {s[0] + '__sample_weight': sample_weight for s in model.steps}\n",
      "model.fit(X, y, **kwargs)\n",
      "\n",
      "\n",
      "  warnings.warn(\n",
      "C:\\Users\\marco\\anaconda3\\lib\\site-packages\\sklearn\\linear_model\\_base.py:141: FutureWarning: 'normalize' was deprecated in version 1.0 and will be removed in 1.2.\n",
      "If you wish to scale the data, use Pipeline with a StandardScaler in a preprocessing stage. To reproduce the previous behavior:\n",
      "\n",
      "from sklearn.pipeline import make_pipeline\n",
      "\n",
      "model = make_pipeline(StandardScaler(with_mean=False), LinearRegression())\n",
      "\n",
      "If you wish to pass a sample_weight parameter, you need to pass it as a fit parameter to each step of the pipeline as follows:\n",
      "\n",
      "kwargs = {s[0] + '__sample_weight': sample_weight for s in model.steps}\n",
      "model.fit(X, y, **kwargs)\n",
      "\n",
      "\n",
      "  warnings.warn(\n",
      "C:\\Users\\marco\\anaconda3\\lib\\site-packages\\sklearn\\linear_model\\_base.py:141: FutureWarning: 'normalize' was deprecated in version 1.0 and will be removed in 1.2.\n",
      "If you wish to scale the data, use Pipeline with a StandardScaler in a preprocessing stage. To reproduce the previous behavior:\n",
      "\n",
      "from sklearn.pipeline import make_pipeline\n",
      "\n",
      "model = make_pipeline(StandardScaler(with_mean=False), LinearRegression())\n",
      "\n",
      "If you wish to pass a sample_weight parameter, you need to pass it as a fit parameter to each step of the pipeline as follows:\n",
      "\n",
      "kwargs = {s[0] + '__sample_weight': sample_weight for s in model.steps}\n",
      "model.fit(X, y, **kwargs)\n",
      "\n",
      "\n",
      "  warnings.warn(\n",
      "C:\\Users\\marco\\anaconda3\\lib\\site-packages\\sklearn\\linear_model\\_base.py:141: FutureWarning: 'normalize' was deprecated in version 1.0 and will be removed in 1.2.\n",
      "If you wish to scale the data, use Pipeline with a StandardScaler in a preprocessing stage. To reproduce the previous behavior:\n",
      "\n",
      "from sklearn.pipeline import make_pipeline\n",
      "\n",
      "model = make_pipeline(StandardScaler(with_mean=False), LinearRegression())\n",
      "\n",
      "If you wish to pass a sample_weight parameter, you need to pass it as a fit parameter to each step of the pipeline as follows:\n",
      "\n",
      "kwargs = {s[0] + '__sample_weight': sample_weight for s in model.steps}\n",
      "model.fit(X, y, **kwargs)\n",
      "\n",
      "\n",
      "  warnings.warn(\n",
      "C:\\Users\\marco\\anaconda3\\lib\\site-packages\\sklearn\\linear_model\\_base.py:141: FutureWarning: 'normalize' was deprecated in version 1.0 and will be removed in 1.2.\n",
      "If you wish to scale the data, use Pipeline with a StandardScaler in a preprocessing stage. To reproduce the previous behavior:\n",
      "\n",
      "from sklearn.pipeline import make_pipeline\n",
      "\n",
      "model = make_pipeline(StandardScaler(with_mean=False), LinearRegression())\n",
      "\n",
      "If you wish to pass a sample_weight parameter, you need to pass it as a fit parameter to each step of the pipeline as follows:\n",
      "\n",
      "kwargs = {s[0] + '__sample_weight': sample_weight for s in model.steps}\n",
      "model.fit(X, y, **kwargs)\n",
      "\n",
      "\n",
      "  warnings.warn(\n",
      "C:\\Users\\marco\\anaconda3\\lib\\site-packages\\sklearn\\linear_model\\_base.py:141: FutureWarning: 'normalize' was deprecated in version 1.0 and will be removed in 1.2.\n",
      "If you wish to scale the data, use Pipeline with a StandardScaler in a preprocessing stage. To reproduce the previous behavior:\n",
      "\n",
      "from sklearn.pipeline import make_pipeline\n",
      "\n",
      "model = make_pipeline(StandardScaler(with_mean=False), LinearRegression())\n",
      "\n",
      "If you wish to pass a sample_weight parameter, you need to pass it as a fit parameter to each step of the pipeline as follows:\n",
      "\n",
      "kwargs = {s[0] + '__sample_weight': sample_weight for s in model.steps}\n",
      "model.fit(X, y, **kwargs)\n",
      "\n",
      "\n",
      "  warnings.warn(\n",
      "C:\\Users\\marco\\anaconda3\\lib\\site-packages\\sklearn\\linear_model\\_base.py:141: FutureWarning: 'normalize' was deprecated in version 1.0 and will be removed in 1.2.\n",
      "If you wish to scale the data, use Pipeline with a StandardScaler in a preprocessing stage. To reproduce the previous behavior:\n",
      "\n",
      "from sklearn.pipeline import make_pipeline\n",
      "\n",
      "model = make_pipeline(StandardScaler(with_mean=False), LinearRegression())\n",
      "\n",
      "If you wish to pass a sample_weight parameter, you need to pass it as a fit parameter to each step of the pipeline as follows:\n",
      "\n",
      "kwargs = {s[0] + '__sample_weight': sample_weight for s in model.steps}\n",
      "model.fit(X, y, **kwargs)\n",
      "\n",
      "\n",
      "  warnings.warn(\n",
      "C:\\Users\\marco\\anaconda3\\lib\\site-packages\\sklearn\\linear_model\\_base.py:141: FutureWarning: 'normalize' was deprecated in version 1.0 and will be removed in 1.2.\n",
      "If you wish to scale the data, use Pipeline with a StandardScaler in a preprocessing stage. To reproduce the previous behavior:\n",
      "\n",
      "from sklearn.pipeline import make_pipeline\n",
      "\n",
      "model = make_pipeline(StandardScaler(with_mean=False), LinearRegression())\n",
      "\n",
      "If you wish to pass a sample_weight parameter, you need to pass it as a fit parameter to each step of the pipeline as follows:\n",
      "\n",
      "kwargs = {s[0] + '__sample_weight': sample_weight for s in model.steps}\n",
      "model.fit(X, y, **kwargs)\n",
      "\n",
      "\n",
      "  warnings.warn(\n",
      "C:\\Users\\marco\\anaconda3\\lib\\site-packages\\sklearn\\linear_model\\_base.py:141: FutureWarning: 'normalize' was deprecated in version 1.0 and will be removed in 1.2.\n",
      "If you wish to scale the data, use Pipeline with a StandardScaler in a preprocessing stage. To reproduce the previous behavior:\n",
      "\n",
      "from sklearn.pipeline import make_pipeline\n",
      "\n",
      "model = make_pipeline(StandardScaler(with_mean=False), LinearRegression())\n",
      "\n",
      "If you wish to pass a sample_weight parameter, you need to pass it as a fit parameter to each step of the pipeline as follows:\n",
      "\n",
      "kwargs = {s[0] + '__sample_weight': sample_weight for s in model.steps}\n",
      "model.fit(X, y, **kwargs)\n",
      "\n",
      "\n",
      "  warnings.warn(\n"
     ]
    },
    {
     "data": {
      "text/plain": [
       "array([1239.99285103,  405.27592436,  568.81584353,  367.82025817,\n",
       "        242.95036199, 2679.54935609, 1018.85819342,  608.07476804,\n",
       "        394.48381356,  481.47619165])"
      ]
     },
     "execution_count": 7,
     "metadata": {},
     "output_type": "execute_result"
    }
   ],
   "source": [
    "lr = LinearRegression(normalize=True)\n",
    "scores = cross_val_score(lr, X=X_train, y=y_train, cv=10, scoring='neg_mean_absolute_error')*-1\n",
    "scores\n",
    "\n",
    "'''\n",
    "https://medium.com/@soumyachess1496/cross-validation-in-time-series-566ae4981ce4\n",
    "splits = TimeSeriesSplit(n_splits=5)\n",
    "\n",
    "list = []\n",
    "for train_index, test_index in splits.split(X_train):\n",
    "    lr.fit(X_train.iloc[train_index])\n",
    "    score = lr.score()\n",
    "    list.add(score)\n",
    "\n",
    "total_score = \n",
    "'''\n",
    "\n",
    "\n"
   ]
  },
  {
   "cell_type": "markdown",
   "metadata": {},
   "source": [
    "### Polynomiale Regression"
   ]
  },
  {
   "cell_type": "code",
   "execution_count": 9,
   "metadata": {},
   "outputs": [
    {
     "name": "stdout",
     "output_type": "stream",
     "text": [
      "(199, 10)\n"
     ]
    }
   ],
   "source": [
    "print(X_test.shape)"
   ]
  },
  {
   "cell_type": "code",
   "execution_count": 12,
   "metadata": {},
   "outputs": [
    {
     "name": "stderr",
     "output_type": "stream",
     "text": [
      "C:\\Users\\marco\\anaconda3\\lib\\site-packages\\sklearn\\linear_model\\_ridge.py:156: LinAlgWarning: Ill-conditioned matrix (rcond=1.12883e-21): result may not be accurate.\n",
      "  return linalg.solve(A, Xy, sym_pos=True, overwrite_a=True).T\n",
      "C:\\Users\\marco\\anaconda3\\lib\\site-packages\\sklearn\\linear_model\\_ridge.py:156: LinAlgWarning: Ill-conditioned matrix (rcond=1.12881e-21): result may not be accurate.\n",
      "  return linalg.solve(A, Xy, sym_pos=True, overwrite_a=True).T\n",
      "C:\\Users\\marco\\anaconda3\\lib\\site-packages\\sklearn\\linear_model\\_ridge.py:156: LinAlgWarning: Ill-conditioned matrix (rcond=1.12842e-21): result may not be accurate.\n",
      "  return linalg.solve(A, Xy, sym_pos=True, overwrite_a=True).T\n",
      "C:\\Users\\marco\\anaconda3\\lib\\site-packages\\sklearn\\linear_model\\_ridge.py:156: LinAlgWarning: Ill-conditioned matrix (rcond=1.12842e-21): result may not be accurate.\n",
      "  return linalg.solve(A, Xy, sym_pos=True, overwrite_a=True).T\n",
      "C:\\Users\\marco\\anaconda3\\lib\\site-packages\\sklearn\\linear_model\\_ridge.py:156: LinAlgWarning: Ill-conditioned matrix (rcond=1.12842e-21): result may not be accurate.\n",
      "  return linalg.solve(A, Xy, sym_pos=True, overwrite_a=True).T\n",
      "C:\\Users\\marco\\anaconda3\\lib\\site-packages\\sklearn\\linear_model\\_ridge.py:156: LinAlgWarning: Ill-conditioned matrix (rcond=1.12868e-21): result may not be accurate.\n",
      "  return linalg.solve(A, Xy, sym_pos=True, overwrite_a=True).T\n",
      "C:\\Users\\marco\\anaconda3\\lib\\site-packages\\sklearn\\linear_model\\_ridge.py:156: LinAlgWarning: Ill-conditioned matrix (rcond=1.12786e-21): result may not be accurate.\n",
      "  return linalg.solve(A, Xy, sym_pos=True, overwrite_a=True).T\n",
      "C:\\Users\\marco\\anaconda3\\lib\\site-packages\\sklearn\\linear_model\\_ridge.py:156: LinAlgWarning: Ill-conditioned matrix (rcond=1.11809e-21): result may not be accurate.\n",
      "  return linalg.solve(A, Xy, sym_pos=True, overwrite_a=True).T\n",
      "C:\\Users\\marco\\anaconda3\\lib\\site-packages\\sklearn\\linear_model\\_ridge.py:156: LinAlgWarning: Ill-conditioned matrix (rcond=1.14383e-21): result may not be accurate.\n",
      "  return linalg.solve(A, Xy, sym_pos=True, overwrite_a=True).T\n",
      "C:\\Users\\marco\\anaconda3\\lib\\site-packages\\sklearn\\linear_model\\_ridge.py:156: LinAlgWarning: Ill-conditioned matrix (rcond=2.21699e-20): result may not be accurate.\n",
      "  return linalg.solve(A, Xy, sym_pos=True, overwrite_a=True).T\n",
      "C:\\Users\\marco\\anaconda3\\lib\\site-packages\\sklearn\\linear_model\\_ridge.py:156: LinAlgWarning: Ill-conditioned matrix (rcond=2.8695e-31): result may not be accurate.\n",
      "  return linalg.solve(A, Xy, sym_pos=True, overwrite_a=True).T\n",
      "C:\\Users\\marco\\anaconda3\\lib\\site-packages\\sklearn\\linear_model\\_ridge.py:156: LinAlgWarning: Ill-conditioned matrix (rcond=2.86942e-31): result may not be accurate.\n",
      "  return linalg.solve(A, Xy, sym_pos=True, overwrite_a=True).T\n",
      "C:\\Users\\marco\\anaconda3\\lib\\site-packages\\sklearn\\linear_model\\_ridge.py:156: LinAlgWarning: Ill-conditioned matrix (rcond=2.86877e-31): result may not be accurate.\n",
      "  return linalg.solve(A, Xy, sym_pos=True, overwrite_a=True).T\n",
      "C:\\Users\\marco\\anaconda3\\lib\\site-packages\\sklearn\\linear_model\\_ridge.py:156: LinAlgWarning: Ill-conditioned matrix (rcond=2.86876e-31): result may not be accurate.\n",
      "  return linalg.solve(A, Xy, sym_pos=True, overwrite_a=True).T\n",
      "C:\\Users\\marco\\anaconda3\\lib\\site-packages\\sklearn\\linear_model\\_ridge.py:156: LinAlgWarning: Ill-conditioned matrix (rcond=2.86873e-31): result may not be accurate.\n",
      "  return linalg.solve(A, Xy, sym_pos=True, overwrite_a=True).T\n",
      "C:\\Users\\marco\\anaconda3\\lib\\site-packages\\sklearn\\linear_model\\_ridge.py:156: LinAlgWarning: Ill-conditioned matrix (rcond=2.86946e-31): result may not be accurate.\n",
      "  return linalg.solve(A, Xy, sym_pos=True, overwrite_a=True).T\n",
      "C:\\Users\\marco\\anaconda3\\lib\\site-packages\\sklearn\\linear_model\\_ridge.py:156: LinAlgWarning: Ill-conditioned matrix (rcond=2.75958e-31): result may not be accurate.\n",
      "  return linalg.solve(A, Xy, sym_pos=True, overwrite_a=True).T\n",
      "C:\\Users\\marco\\anaconda3\\lib\\site-packages\\sklearn\\linear_model\\_ridge.py:156: LinAlgWarning: Ill-conditioned matrix (rcond=2.15042e-31): result may not be accurate.\n",
      "  return linalg.solve(A, Xy, sym_pos=True, overwrite_a=True).T\n",
      "C:\\Users\\marco\\anaconda3\\lib\\site-packages\\sklearn\\linear_model\\_ridge.py:156: LinAlgWarning: Ill-conditioned matrix (rcond=2.19258e-31): result may not be accurate.\n",
      "  return linalg.solve(A, Xy, sym_pos=True, overwrite_a=True).T\n"
     ]
    },
    {
     "name": "stdout",
     "output_type": "stream",
     "text": [
      "With polynomial features and interactions of degree 2, we get an error of 1383.88\n",
      "With polynomial features and interactions of degree 3, we get an error of 10367.74\n"
     ]
    },
    {
     "name": "stderr",
     "output_type": "stream",
     "text": [
      "C:\\Users\\marco\\anaconda3\\lib\\site-packages\\sklearn\\linear_model\\_ridge.py:156: LinAlgWarning: Ill-conditioned matrix (rcond=1.36706e-29): result may not be accurate.\n",
      "  return linalg.solve(A, Xy, sym_pos=True, overwrite_a=True).T\n",
      "C:\\Users\\marco\\anaconda3\\lib\\site-packages\\sklearn\\linear_model\\_ridge.py:195: UserWarning: Singular matrix in solving dual problem. Using least-squares solution instead.\n",
      "  warnings.warn(\n",
      "C:\\Users\\marco\\anaconda3\\lib\\site-packages\\sklearn\\linear_model\\_ridge.py:195: UserWarning: Singular matrix in solving dual problem. Using least-squares solution instead.\n",
      "  warnings.warn(\n",
      "C:\\Users\\marco\\anaconda3\\lib\\site-packages\\sklearn\\linear_model\\_ridge.py:195: UserWarning: Singular matrix in solving dual problem. Using least-squares solution instead.\n",
      "  warnings.warn(\n",
      "C:\\Users\\marco\\anaconda3\\lib\\site-packages\\sklearn\\linear_model\\_ridge.py:195: UserWarning: Singular matrix in solving dual problem. Using least-squares solution instead.\n",
      "  warnings.warn(\n",
      "C:\\Users\\marco\\anaconda3\\lib\\site-packages\\sklearn\\linear_model\\_ridge.py:195: UserWarning: Singular matrix in solving dual problem. Using least-squares solution instead.\n",
      "  warnings.warn(\n",
      "C:\\Users\\marco\\anaconda3\\lib\\site-packages\\sklearn\\linear_model\\_ridge.py:195: UserWarning: Singular matrix in solving dual problem. Using least-squares solution instead.\n",
      "  warnings.warn(\n",
      "C:\\Users\\marco\\anaconda3\\lib\\site-packages\\sklearn\\linear_model\\_ridge.py:195: UserWarning: Singular matrix in solving dual problem. Using least-squares solution instead.\n",
      "  warnings.warn(\n",
      "C:\\Users\\marco\\anaconda3\\lib\\site-packages\\sklearn\\linear_model\\_ridge.py:195: UserWarning: Singular matrix in solving dual problem. Using least-squares solution instead.\n",
      "  warnings.warn(\n",
      "C:\\Users\\marco\\anaconda3\\lib\\site-packages\\sklearn\\linear_model\\_ridge.py:195: UserWarning: Singular matrix in solving dual problem. Using least-squares solution instead.\n",
      "  warnings.warn(\n",
      "C:\\Users\\marco\\anaconda3\\lib\\site-packages\\sklearn\\linear_model\\_ridge.py:195: UserWarning: Singular matrix in solving dual problem. Using least-squares solution instead.\n",
      "  warnings.warn(\n",
      "C:\\Users\\marco\\anaconda3\\lib\\site-packages\\sklearn\\linear_model\\_ridge.py:195: UserWarning: Singular matrix in solving dual problem. Using least-squares solution instead.\n",
      "  warnings.warn(\n",
      "C:\\Users\\marco\\anaconda3\\lib\\site-packages\\sklearn\\linear_model\\_ridge.py:195: UserWarning: Singular matrix in solving dual problem. Using least-squares solution instead.\n",
      "  warnings.warn(\n"
     ]
    },
    {
     "name": "stdout",
     "output_type": "stream",
     "text": [
      "With polynomial features and interactions of degree 4, we get an error of 7622.80\n"
     ]
    },
    {
     "name": "stderr",
     "output_type": "stream",
     "text": [
      "C:\\Users\\marco\\anaconda3\\lib\\site-packages\\sklearn\\linear_model\\_ridge.py:195: UserWarning: Singular matrix in solving dual problem. Using least-squares solution instead.\n",
      "  warnings.warn(\n",
      "C:\\Users\\marco\\anaconda3\\lib\\site-packages\\sklearn\\linear_model\\_ridge.py:195: UserWarning: Singular matrix in solving dual problem. Using least-squares solution instead.\n",
      "  warnings.warn(\n",
      "C:\\Users\\marco\\anaconda3\\lib\\site-packages\\sklearn\\linear_model\\_ridge.py:195: UserWarning: Singular matrix in solving dual problem. Using least-squares solution instead.\n",
      "  warnings.warn(\n",
      "C:\\Users\\marco\\anaconda3\\lib\\site-packages\\sklearn\\linear_model\\_ridge.py:195: UserWarning: Singular matrix in solving dual problem. Using least-squares solution instead.\n",
      "  warnings.warn(\n",
      "C:\\Users\\marco\\anaconda3\\lib\\site-packages\\sklearn\\linear_model\\_ridge.py:195: UserWarning: Singular matrix in solving dual problem. Using least-squares solution instead.\n",
      "  warnings.warn(\n",
      "C:\\Users\\marco\\anaconda3\\lib\\site-packages\\sklearn\\linear_model\\_ridge.py:195: UserWarning: Singular matrix in solving dual problem. Using least-squares solution instead.\n",
      "  warnings.warn(\n",
      "C:\\Users\\marco\\anaconda3\\lib\\site-packages\\sklearn\\linear_model\\_ridge.py:195: UserWarning: Singular matrix in solving dual problem. Using least-squares solution instead.\n",
      "  warnings.warn(\n",
      "C:\\Users\\marco\\anaconda3\\lib\\site-packages\\sklearn\\linear_model\\_ridge.py:195: UserWarning: Singular matrix in solving dual problem. Using least-squares solution instead.\n",
      "  warnings.warn(\n"
     ]
    },
    {
     "name": "stdout",
     "output_type": "stream",
     "text": [
      "With polynomial features and interactions of degree 5, we get an error of 586394.24\n"
     ]
    },
    {
     "name": "stderr",
     "output_type": "stream",
     "text": [
      "C:\\Users\\marco\\anaconda3\\lib\\site-packages\\sklearn\\linear_model\\_ridge.py:195: UserWarning: Singular matrix in solving dual problem. Using least-squares solution instead.\n",
      "  warnings.warn(\n",
      "C:\\Users\\marco\\anaconda3\\lib\\site-packages\\sklearn\\linear_model\\_ridge.py:195: UserWarning: Singular matrix in solving dual problem. Using least-squares solution instead.\n",
      "  warnings.warn(\n",
      "C:\\Users\\marco\\anaconda3\\lib\\site-packages\\sklearn\\linear_model\\_ridge.py:195: UserWarning: Singular matrix in solving dual problem. Using least-squares solution instead.\n",
      "  warnings.warn(\n",
      "C:\\Users\\marco\\anaconda3\\lib\\site-packages\\sklearn\\linear_model\\_ridge.py:195: UserWarning: Singular matrix in solving dual problem. Using least-squares solution instead.\n",
      "  warnings.warn(\n",
      "C:\\Users\\marco\\anaconda3\\lib\\site-packages\\sklearn\\linear_model\\_ridge.py:195: UserWarning: Singular matrix in solving dual problem. Using least-squares solution instead.\n",
      "  warnings.warn(\n",
      "C:\\Users\\marco\\anaconda3\\lib\\site-packages\\sklearn\\linear_model\\_ridge.py:195: UserWarning: Singular matrix in solving dual problem. Using least-squares solution instead.\n",
      "  warnings.warn(\n",
      "C:\\Users\\marco\\anaconda3\\lib\\site-packages\\sklearn\\linear_model\\_ridge.py:195: UserWarning: Singular matrix in solving dual problem. Using least-squares solution instead.\n",
      "  warnings.warn(\n",
      "C:\\Users\\marco\\anaconda3\\lib\\site-packages\\sklearn\\linear_model\\_ridge.py:195: UserWarning: Singular matrix in solving dual problem. Using least-squares solution instead.\n",
      "  warnings.warn(\n",
      "C:\\Users\\marco\\anaconda3\\lib\\site-packages\\sklearn\\linear_model\\_ridge.py:195: UserWarning: Singular matrix in solving dual problem. Using least-squares solution instead.\n",
      "  warnings.warn(\n",
      "C:\\Users\\marco\\anaconda3\\lib\\site-packages\\sklearn\\linear_model\\_ridge.py:195: UserWarning: Singular matrix in solving dual problem. Using least-squares solution instead.\n",
      "  warnings.warn(\n"
     ]
    },
    {
     "name": "stdout",
     "output_type": "stream",
     "text": [
      "With polynomial features and interactions of degree 6, we get an error of 585633.57\n"
     ]
    },
    {
     "name": "stderr",
     "output_type": "stream",
     "text": [
      "C:\\Users\\marco\\anaconda3\\lib\\site-packages\\sklearn\\linear_model\\_ridge.py:195: UserWarning: Singular matrix in solving dual problem. Using least-squares solution instead.\n",
      "  warnings.warn(\n",
      "C:\\Users\\marco\\anaconda3\\lib\\site-packages\\sklearn\\linear_model\\_ridge.py:195: UserWarning: Singular matrix in solving dual problem. Using least-squares solution instead.\n",
      "  warnings.warn(\n",
      "C:\\Users\\marco\\anaconda3\\lib\\site-packages\\sklearn\\linear_model\\_ridge.py:195: UserWarning: Singular matrix in solving dual problem. Using least-squares solution instead.\n",
      "  warnings.warn(\n",
      "C:\\Users\\marco\\anaconda3\\lib\\site-packages\\sklearn\\linear_model\\_ridge.py:195: UserWarning: Singular matrix in solving dual problem. Using least-squares solution instead.\n",
      "  warnings.warn(\n",
      "C:\\Users\\marco\\anaconda3\\lib\\site-packages\\sklearn\\linear_model\\_ridge.py:195: UserWarning: Singular matrix in solving dual problem. Using least-squares solution instead.\n",
      "  warnings.warn(\n",
      "C:\\Users\\marco\\anaconda3\\lib\\site-packages\\sklearn\\linear_model\\_ridge.py:195: UserWarning: Singular matrix in solving dual problem. Using least-squares solution instead.\n",
      "  warnings.warn(\n",
      "C:\\Users\\marco\\anaconda3\\lib\\site-packages\\sklearn\\linear_model\\_ridge.py:195: UserWarning: Singular matrix in solving dual problem. Using least-squares solution instead.\n",
      "  warnings.warn(\n",
      "C:\\Users\\marco\\anaconda3\\lib\\site-packages\\sklearn\\linear_model\\_ridge.py:195: UserWarning: Singular matrix in solving dual problem. Using least-squares solution instead.\n",
      "  warnings.warn(\n",
      "C:\\Users\\marco\\anaconda3\\lib\\site-packages\\sklearn\\linear_model\\_ridge.py:195: UserWarning: Singular matrix in solving dual problem. Using least-squares solution instead.\n",
      "  warnings.warn(\n",
      "C:\\Users\\marco\\anaconda3\\lib\\site-packages\\sklearn\\linear_model\\_ridge.py:195: UserWarning: Singular matrix in solving dual problem. Using least-squares solution instead.\n",
      "  warnings.warn(\n"
     ]
    },
    {
     "name": "stdout",
     "output_type": "stream",
     "text": [
      "With polynomial features and interactions of degree 7, we get an error of 15337051.80\n"
     ]
    },
    {
     "name": "stderr",
     "output_type": "stream",
     "text": [
      "C:\\Users\\marco\\anaconda3\\lib\\site-packages\\sklearn\\linear_model\\_ridge.py:195: UserWarning: Singular matrix in solving dual problem. Using least-squares solution instead.\n",
      "  warnings.warn(\n",
      "C:\\Users\\marco\\anaconda3\\lib\\site-packages\\sklearn\\linear_model\\_ridge.py:195: UserWarning: Singular matrix in solving dual problem. Using least-squares solution instead.\n",
      "  warnings.warn(\n",
      "C:\\Users\\marco\\anaconda3\\lib\\site-packages\\sklearn\\linear_model\\_ridge.py:195: UserWarning: Singular matrix in solving dual problem. Using least-squares solution instead.\n",
      "  warnings.warn(\n",
      "C:\\Users\\marco\\anaconda3\\lib\\site-packages\\sklearn\\linear_model\\_ridge.py:195: UserWarning: Singular matrix in solving dual problem. Using least-squares solution instead.\n",
      "  warnings.warn(\n",
      "C:\\Users\\marco\\anaconda3\\lib\\site-packages\\sklearn\\linear_model\\_ridge.py:195: UserWarning: Singular matrix in solving dual problem. Using least-squares solution instead.\n",
      "  warnings.warn(\n",
      "C:\\Users\\marco\\anaconda3\\lib\\site-packages\\sklearn\\linear_model\\_ridge.py:195: UserWarning: Singular matrix in solving dual problem. Using least-squares solution instead.\n",
      "  warnings.warn(\n",
      "C:\\Users\\marco\\anaconda3\\lib\\site-packages\\sklearn\\linear_model\\_ridge.py:195: UserWarning: Singular matrix in solving dual problem. Using least-squares solution instead.\n",
      "  warnings.warn(\n",
      "C:\\Users\\marco\\anaconda3\\lib\\site-packages\\sklearn\\linear_model\\_ridge.py:195: UserWarning: Singular matrix in solving dual problem. Using least-squares solution instead.\n",
      "  warnings.warn(\n",
      "C:\\Users\\marco\\anaconda3\\lib\\site-packages\\sklearn\\linear_model\\_ridge.py:195: UserWarning: Singular matrix in solving dual problem. Using least-squares solution instead.\n",
      "  warnings.warn(\n",
      "C:\\Users\\marco\\anaconda3\\lib\\site-packages\\sklearn\\linear_model\\_ridge.py:195: UserWarning: Singular matrix in solving dual problem. Using least-squares solution instead.\n",
      "  warnings.warn(\n"
     ]
    },
    {
     "name": "stdout",
     "output_type": "stream",
     "text": [
      "With polynomial features and interactions of degree 8, we get an error of 11882883.74\n"
     ]
    },
    {
     "name": "stderr",
     "output_type": "stream",
     "text": [
      "C:\\Users\\marco\\anaconda3\\lib\\site-packages\\sklearn\\linear_model\\_ridge.py:195: UserWarning: Singular matrix in solving dual problem. Using least-squares solution instead.\n",
      "  warnings.warn(\n",
      "C:\\Users\\marco\\anaconda3\\lib\\site-packages\\sklearn\\linear_model\\_ridge.py:195: UserWarning: Singular matrix in solving dual problem. Using least-squares solution instead.\n",
      "  warnings.warn(\n",
      "C:\\Users\\marco\\anaconda3\\lib\\site-packages\\sklearn\\linear_model\\_ridge.py:195: UserWarning: Singular matrix in solving dual problem. Using least-squares solution instead.\n",
      "  warnings.warn(\n",
      "C:\\Users\\marco\\anaconda3\\lib\\site-packages\\sklearn\\linear_model\\_ridge.py:195: UserWarning: Singular matrix in solving dual problem. Using least-squares solution instead.\n",
      "  warnings.warn(\n",
      "C:\\Users\\marco\\anaconda3\\lib\\site-packages\\sklearn\\linear_model\\_ridge.py:195: UserWarning: Singular matrix in solving dual problem. Using least-squares solution instead.\n",
      "  warnings.warn(\n",
      "C:\\Users\\marco\\anaconda3\\lib\\site-packages\\sklearn\\linear_model\\_ridge.py:195: UserWarning: Singular matrix in solving dual problem. Using least-squares solution instead.\n",
      "  warnings.warn(\n",
      "C:\\Users\\marco\\anaconda3\\lib\\site-packages\\sklearn\\linear_model\\_ridge.py:195: UserWarning: Singular matrix in solving dual problem. Using least-squares solution instead.\n",
      "  warnings.warn(\n",
      "C:\\Users\\marco\\anaconda3\\lib\\site-packages\\sklearn\\linear_model\\_ridge.py:195: UserWarning: Singular matrix in solving dual problem. Using least-squares solution instead.\n",
      "  warnings.warn(\n",
      "C:\\Users\\marco\\anaconda3\\lib\\site-packages\\sklearn\\linear_model\\_ridge.py:195: UserWarning: Singular matrix in solving dual problem. Using least-squares solution instead.\n",
      "  warnings.warn(\n",
      "C:\\Users\\marco\\anaconda3\\lib\\site-packages\\sklearn\\linear_model\\_ridge.py:195: UserWarning: Singular matrix in solving dual problem. Using least-squares solution instead.\n",
      "  warnings.warn(\n"
     ]
    },
    {
     "name": "stdout",
     "output_type": "stream",
     "text": [
      "With polynomial features and interactions of degree 9, we get an error of 62006241.99\n"
     ]
    },
    {
     "name": "stderr",
     "output_type": "stream",
     "text": [
      "C:\\Users\\marco\\anaconda3\\lib\\site-packages\\sklearn\\linear_model\\_ridge.py:195: UserWarning: Singular matrix in solving dual problem. Using least-squares solution instead.\n",
      "  warnings.warn(\n",
      "C:\\Users\\marco\\anaconda3\\lib\\site-packages\\sklearn\\linear_model\\_ridge.py:195: UserWarning: Singular matrix in solving dual problem. Using least-squares solution instead.\n",
      "  warnings.warn(\n",
      "C:\\Users\\marco\\anaconda3\\lib\\site-packages\\sklearn\\linear_model\\_ridge.py:195: UserWarning: Singular matrix in solving dual problem. Using least-squares solution instead.\n",
      "  warnings.warn(\n",
      "C:\\Users\\marco\\anaconda3\\lib\\site-packages\\sklearn\\linear_model\\_ridge.py:195: UserWarning: Singular matrix in solving dual problem. Using least-squares solution instead.\n",
      "  warnings.warn(\n",
      "C:\\Users\\marco\\anaconda3\\lib\\site-packages\\sklearn\\linear_model\\_ridge.py:195: UserWarning: Singular matrix in solving dual problem. Using least-squares solution instead.\n",
      "  warnings.warn(\n",
      "C:\\Users\\marco\\anaconda3\\lib\\site-packages\\sklearn\\linear_model\\_ridge.py:195: UserWarning: Singular matrix in solving dual problem. Using least-squares solution instead.\n",
      "  warnings.warn(\n",
      "C:\\Users\\marco\\anaconda3\\lib\\site-packages\\sklearn\\linear_model\\_ridge.py:195: UserWarning: Singular matrix in solving dual problem. Using least-squares solution instead.\n",
      "  warnings.warn(\n",
      "C:\\Users\\marco\\anaconda3\\lib\\site-packages\\sklearn\\linear_model\\_ridge.py:195: UserWarning: Singular matrix in solving dual problem. Using least-squares solution instead.\n",
      "  warnings.warn(\n",
      "C:\\Users\\marco\\anaconda3\\lib\\site-packages\\sklearn\\linear_model\\_ridge.py:195: UserWarning: Singular matrix in solving dual problem. Using least-squares solution instead.\n",
      "  warnings.warn(\n",
      "C:\\Users\\marco\\anaconda3\\lib\\site-packages\\sklearn\\linear_model\\_ridge.py:195: UserWarning: Singular matrix in solving dual problem. Using least-squares solution instead.\n",
      "  warnings.warn(\n"
     ]
    },
    {
     "name": "stdout",
     "output_type": "stream",
     "text": [
      "With polynomial features and interactions of degree 10, we get an error of 12116144.87\n"
     ]
    }
   ],
   "source": [
    "rr = Ridge(alpha=0.5)\n",
    "\n",
    "for i in [2,3,4,5,6,7,8,9,10]:\n",
    "    poly = PolynomialFeatures(i)\n",
    "    X = poly.fit_transform(X_train)\n",
    "    scores = cross_val_score(rr, X=X, y=y_train, cv=10, scoring='neg_mean_absolute_error')*-1\n",
    "    print(\"With polynomial features and interactions of degree {}, we get an error of {:.2f}\".format(i, np.mean(scores)))"
   ]
  },
  {
   "cell_type": "markdown",
   "metadata": {},
   "source": [
    "## Training der Modelle"
   ]
  },
  {
   "cell_type": "code",
   "execution_count": null,
   "metadata": {},
   "outputs": [],
   "source": []
  },
  {
   "cell_type": "markdown",
   "metadata": {},
   "source": [
    "## Evaluation"
   ]
  }
 ],
 "metadata": {
  "kernelspec": {
   "display_name": "Python 3 (ipykernel)",
   "language": "python",
   "name": "python3"
  },
  "language_info": {
   "codemirror_mode": {
    "name": "ipython",
    "version": 3
   },
   "file_extension": ".py",
   "mimetype": "text/x-python",
   "name": "python",
   "nbconvert_exporter": "python",
   "pygments_lexer": "ipython3",
   "version": "3.9.7"
  },
  "orig_nbformat": 4
 },
 "nbformat": 4,
 "nbformat_minor": 2
}
