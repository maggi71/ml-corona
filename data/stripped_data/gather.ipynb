{
 "cells": [
  {
   "cell_type": "code",
   "execution_count": 187,
   "metadata": {},
   "outputs": [],
   "source": [
    "# Usual Imports\n",
    "import pandas as pd\n",
    "import sys"
   ]
  },
  {
   "cell_type": "markdown",
   "metadata": {},
   "source": [
    "# Configuration\n",
    "Change the variable data_path to your local git repo path"
   ]
  },
  {
   "cell_type": "code",
   "execution_count": 188,
   "metadata": {},
   "outputs": [],
   "source": [
    "#Path to raw_data -> change it localy\n",
    "data_path =  \"C:/Users/marco/IdeaProjects/ml-corona/data/\"\n",
    "\n",
    "\n",
    "raw_data_path = f\"{data_path}raw_data/\"\n",
    "stripped_data_path = f\"{data_path}stripped_data/\"\n"
   ]
  },
  {
   "cell_type": "code",
   "execution_count": 189,
   "metadata": {},
   "outputs": [],
   "source": [
    "#Quality Check\n",
    "number_of_rows = 0"
   ]
  },
  {
   "cell_type": "code",
   "execution_count": 190,
   "metadata": {},
   "outputs": [],
   "source": [
    "def extract_CH_entries(csv_filename, new_column_name):\n",
    "    data = pd.read_csv(f\"{raw_data_path}{csv_filename}\", index_col = 1, encoding = \"UTF-8\")\n",
    "    #Remove all not having geoRegion = 'CH'\n",
    "    data = data[data['geoRegion'] == 'CH']\n",
    "    #New dataframe with only datum and data\n",
    "    data = data[['entries']]\n",
    "    data =  data.rename({'entries': new_column_name}, axis=1, inplace=False)\n",
    "    return data\n",
    "\n",
    "def verify_row_number(all_data,number_of_rows):\n",
    "    new_number_of_rows = all_data.shape[0]\n",
    "    if new_number_of_rows > number_of_rows:\n",
    "        sys.exit(f\"Number of rows increased from {number_of_rows} to {new_number_of_rows}!\")"
   ]
  },
  {
   "cell_type": "markdown",
   "metadata": {},
   "source": [
    "# Cases\n"
   ]
  },
  {
   "cell_type": "code",
   "execution_count": 191,
   "metadata": {},
   "outputs": [
    {
     "data": {
      "text/plain": [
       "<bound method NDFrame.head of             cases\n",
       "datum            \n",
       "2020-02-24      1\n",
       "2020-02-25      1\n",
       "2020-02-26     10\n",
       "2020-02-27     10\n",
       "2020-02-28     10\n",
       "...           ...\n",
       "2021-12-02  10081\n",
       "2021-12-03   8951\n",
       "2021-12-04   4822\n",
       "2021-12-05   2744\n",
       "2021-12-06      9\n",
       "\n",
       "[652 rows x 1 columns]>"
      ]
     },
     "execution_count": 191,
     "metadata": {},
     "output_type": "execute_result"
    }
   ],
   "source": [
    "cases = extract_CH_entries('COVID19Cases_geoRegion.csv','cases')\n",
    "all_data = cases\n",
    "number_of_rows = all_data.shape[0]\n",
    "all_data.head"
   ]
  },
  {
   "cell_type": "markdown",
   "metadata": {},
   "source": [
    "# Certificate"
   ]
  },
  {
   "cell_type": "code",
   "execution_count": 192,
   "metadata": {},
   "outputs": [
    {
     "data": {
      "text/plain": [
       "<bound method NDFrame.head of             cases  certificate_all  certificate_recovered  certificate_tested  \\\n",
       "datum                                                                           \n",
       "2020-02-24      1              NaN                    NaN                 NaN   \n",
       "2020-02-25      1              NaN                    NaN                 NaN   \n",
       "2020-02-26     10              NaN                    NaN                 NaN   \n",
       "2020-02-27     10              NaN                    NaN                 NaN   \n",
       "2020-02-28     10              NaN                    NaN                 NaN   \n",
       "...           ...              ...                    ...                 ...   \n",
       "2021-12-02  10081         137832.0                 8828.0             59039.0   \n",
       "2021-12-03   8951         210437.0                 9887.0            126162.0   \n",
       "2021-12-04   4822         133322.0                 6974.0             89945.0   \n",
       "2021-12-05   2744          52858.0                 5909.0             33768.0   \n",
       "2021-12-06      9              NaN                    NaN                 NaN   \n",
       "\n",
       "            certificate_vacinated  \n",
       "datum                              \n",
       "2020-02-24                    NaN  \n",
       "2020-02-25                    NaN  \n",
       "2020-02-26                    NaN  \n",
       "2020-02-27                    NaN  \n",
       "2020-02-28                    NaN  \n",
       "...                           ...  \n",
       "2021-12-02                69965.0  \n",
       "2021-12-03                74388.0  \n",
       "2021-12-04                36403.0  \n",
       "2021-12-05                13181.0  \n",
       "2021-12-06                    NaN  \n",
       "\n",
       "[652 rows x 5 columns]>"
      ]
     },
     "execution_count": 192,
     "metadata": {},
     "output_type": "execute_result"
    }
   ],
   "source": [
    "#Read certificate\n",
    "certificate = pd.read_csv(f\"{raw_data_path}COVID19Certificates.csv\", index_col = 0, encoding = \"UTF-8\")\n",
    "#Reorgainisation of columns. Values of rows in column type_variant are 'all', 'recovered', 'tested','vaccinated'. Generate columns for every value.\n",
    "certificate = certificate.pivot_table('entries', ['date'], 'type_variant')\n",
    "certificate = certificate.rename({'all': 'certificate_all', 'recovered' : 'certificate_recovered', 'tested' : 'certificate_tested', 'vaccinated' : 'certificate_vacinated'}, axis=1, inplace=False)\n",
    "#join the certificate to all_data\n",
    "all_data = all_data.join(certificate, how='left',rsuffix='_other')\n",
    "verify_row_number(all_data,number_of_rows)\n",
    "all_data.head"
   ]
  },
  {
   "cell_type": "markdown",
   "metadata": {},
   "source": [
    "# Vaccinations"
   ]
  },
  {
   "cell_type": "code",
   "execution_count": 183,
   "metadata": {},
   "outputs": [
    {
     "name": "stdout",
     "output_type": "stream",
     "text": [
      "shape all (90170, 12)\n",
      "shape only ch and total_population (1400, 12)\n",
      "shape pivot (350, 4)\n"
     ]
    },
    {
     "data": {
      "text/plain": [
       "<bound method NDFrame.head of             cases  certificate_all  certificate_recovered  certificate_tested  \\\n",
       "datum                                                                           \n",
       "2020-02-24      1              NaN                    NaN                 NaN   \n",
       "2020-02-25      1              NaN                    NaN                 NaN   \n",
       "2020-02-26     10              NaN                    NaN                 NaN   \n",
       "2020-02-27     10              NaN                    NaN                 NaN   \n",
       "2020-02-28     10              NaN                    NaN                 NaN   \n",
       "...           ...              ...                    ...                 ...   \n",
       "2021-12-02  10081         137832.0                 8828.0             59039.0   \n",
       "2021-12-03   8951         210437.0                 9887.0            126162.0   \n",
       "2021-12-04   4822         133322.0                 6974.0             89945.0   \n",
       "2021-12-05   2744          52858.0                 5909.0             33768.0   \n",
       "2021-12-06      9              NaN                    NaN                 NaN   \n",
       "\n",
       "            certificate_vacinated  COVID19AtLeastOneDosePersons  \\\n",
       "datum                                                             \n",
       "2020-02-24                    NaN                           NaN   \n",
       "2020-02-25                    NaN                           NaN   \n",
       "2020-02-26                    NaN                           NaN   \n",
       "2020-02-27                    NaN                           NaN   \n",
       "2020-02-28                    NaN                           NaN   \n",
       "...                           ...                           ...   \n",
       "2021-12-02                69965.0                        3948.0   \n",
       "2021-12-03                74388.0                        4880.0   \n",
       "2021-12-04                36403.0                        3671.0   \n",
       "2021-12-05                13181.0                         832.0   \n",
       "2021-12-06                    NaN                           NaN   \n",
       "\n",
       "            COVID19FirstBoosterPersons  COVID19FullyVaccPersons  \\\n",
       "datum                                                             \n",
       "2020-02-24                         NaN                      NaN   \n",
       "2020-02-25                         NaN                      NaN   \n",
       "2020-02-26                         NaN                      NaN   \n",
       "2020-02-27                         NaN                      NaN   \n",
       "2020-02-28                         NaN                      NaN   \n",
       "...                                ...                      ...   \n",
       "2021-12-02                     53590.0                   4060.0   \n",
       "2021-12-03                     55271.0                   5832.0   \n",
       "2021-12-04                     26665.0                   3394.0   \n",
       "2021-12-05                      7961.0                    424.0   \n",
       "2021-12-06                         NaN                      NaN   \n",
       "\n",
       "            COVID19PartiallyVaccPersons  \n",
       "datum                                    \n",
       "2020-02-24                          NaN  \n",
       "2020-02-25                          NaN  \n",
       "2020-02-26                          NaN  \n",
       "2020-02-27                          NaN  \n",
       "2020-02-28                          NaN  \n",
       "...                                 ...  \n",
       "2021-12-02                       -112.0  \n",
       "2021-12-03                       -952.0  \n",
       "2021-12-04                        277.0  \n",
       "2021-12-05                        408.0  \n",
       "2021-12-06                          NaN  \n",
       "\n",
       "[652 rows x 9 columns]>"
      ]
     },
     "execution_count": 183,
     "metadata": {},
     "output_type": "execute_result"
    },
    {
     "data": {
      "image/png": "[encoded data removed]",
      "text/plain": [
       "<Figure size 720x504 with 1 Axes>"
      ]
     },
     "metadata": {
      "needs_background": "light"
     },
     "output_type": "display_data"
    }
   ],
   "source": [
    "vaccination = pd.read_csv(f\"{raw_data_path}COVID19VaccPersons_v2.csv\", index_col = 0, encoding = \"UTF-8\")\n",
    "print(f\"shape all {vaccination.shape}\")\n",
    "\n",
    "#Remove all not having geoRegion = 'CH'\n",
    "vaccination = vaccination[vaccination['geoRegion'] == 'CH']\n",
    "#Only look in age_group == 'total_population'\n",
    "vaccination = vaccination[vaccination['age_group'] == 'total_population']\n",
    "print(f\"shape only ch and total_population {vaccination.shape}\")\n",
    "\n",
    "pivot = vaccination.pivot_table(values=\"entries\", index=vaccination.index, columns=\"type\", aggfunc='first')\n",
    "print(f\"shape pivot {pivot.shape}\")\n",
    "\n",
    "pivot.plot.barh(figsize=(10,7),title='Vaccinations over time')\n",
    "\n",
    "all_data = all_data.join(pivot, how='left',rsuffix='_other')\n",
    "verify_row_number(all_data,number_of_rows)\n",
    "\n",
    "\n",
    "\n",
    "all_data.head"
   ]
  },
  {
   "cell_type": "markdown",
   "metadata": {},
   "source": [
    "# Hospitalisation"
   ]
  },
  {
   "cell_type": "code",
   "execution_count": 184,
   "metadata": {},
   "outputs": [
    {
     "data": {
      "text/plain": [
       "<bound method NDFrame.head of             cases  certificate_all  certificate_recovered  certificate_tested  \\\n",
       "datum                                                                           \n",
       "2020-02-24      1              NaN                    NaN                 NaN   \n",
       "2020-02-25      1              NaN                    NaN                 NaN   \n",
       "2020-02-26     10              NaN                    NaN                 NaN   \n",
       "2020-02-27     10              NaN                    NaN                 NaN   \n",
       "2020-02-28     10              NaN                    NaN                 NaN   \n",
       "...           ...              ...                    ...                 ...   \n",
       "2021-12-02  10081         137832.0                 8828.0             59039.0   \n",
       "2021-12-03   8951         210437.0                 9887.0            126162.0   \n",
       "2021-12-04   4822         133322.0                 6974.0             89945.0   \n",
       "2021-12-05   2744          52858.0                 5909.0             33768.0   \n",
       "2021-12-06      9              NaN                    NaN                 NaN   \n",
       "\n",
       "            certificate_vacinated  COVID19AtLeastOneDosePersons  \\\n",
       "datum                                                             \n",
       "2020-02-24                    NaN                           NaN   \n",
       "2020-02-25                    NaN                           NaN   \n",
       "2020-02-26                    NaN                           NaN   \n",
       "2020-02-27                    NaN                           NaN   \n",
       "2020-02-28                    NaN                           NaN   \n",
       "...                           ...                           ...   \n",
       "2021-12-02                69965.0                        3948.0   \n",
       "2021-12-03                74388.0                        4880.0   \n",
       "2021-12-04                36403.0                        3671.0   \n",
       "2021-12-05                13181.0                         832.0   \n",
       "2021-12-06                    NaN                           NaN   \n",
       "\n",
       "            COVID19FirstBoosterPersons  COVID19FullyVaccPersons  \\\n",
       "datum                                                             \n",
       "2020-02-24                         NaN                      NaN   \n",
       "2020-02-25                         NaN                      NaN   \n",
       "2020-02-26                         NaN                      NaN   \n",
       "2020-02-27                         NaN                      NaN   \n",
       "2020-02-28                         NaN                      NaN   \n",
       "...                                ...                      ...   \n",
       "2021-12-02                     53590.0                   4060.0   \n",
       "2021-12-03                     55271.0                   5832.0   \n",
       "2021-12-04                     26665.0                   3394.0   \n",
       "2021-12-05                      7961.0                    424.0   \n",
       "2021-12-06                         NaN                      NaN   \n",
       "\n",
       "            COVID19PartiallyVaccPersons  hopsitalisation  \n",
       "datum                                                     \n",
       "2020-02-24                          NaN                5  \n",
       "2020-02-25                          NaN                4  \n",
       "2020-02-26                          NaN                9  \n",
       "2020-02-27                          NaN                5  \n",
       "2020-02-28                          NaN                5  \n",
       "...                                 ...              ...  \n",
       "2021-12-02                       -112.0               67  \n",
       "2021-12-03                       -952.0               35  \n",
       "2021-12-04                        277.0               24  \n",
       "2021-12-05                        408.0                6  \n",
       "2021-12-06                          NaN                0  \n",
       "\n",
       "[652 rows x 10 columns]>"
      ]
     },
     "execution_count": 184,
     "metadata": {},
     "output_type": "execute_result"
    }
   ],
   "source": [
    "hopsitalisation = extract_CH_entries('COVID19Hosp_geoRegion.csv','hopsitalisation')\n",
    "#join the certificate to all_data\n",
    "all_data = all_data.join(hopsitalisation, how='left',rsuffix='_other')\n",
    "verify_row_number(all_data,number_of_rows)\n",
    "all_data.head"
   ]
  },
  {
   "cell_type": "markdown",
   "metadata": {},
   "source": [
    "# Death"
   ]
  },
  {
   "cell_type": "code",
   "execution_count": 185,
   "metadata": {},
   "outputs": [
    {
     "data": {
      "text/plain": [
       "<bound method NDFrame.head of             cases  certificate_all  certificate_recovered  certificate_tested  \\\n",
       "datum                                                                           \n",
       "2020-02-24      1              NaN                    NaN                 NaN   \n",
       "2020-02-25      1              NaN                    NaN                 NaN   \n",
       "2020-02-26     10              NaN                    NaN                 NaN   \n",
       "2020-02-27     10              NaN                    NaN                 NaN   \n",
       "2020-02-28     10              NaN                    NaN                 NaN   \n",
       "...           ...              ...                    ...                 ...   \n",
       "2021-12-02  10081         137832.0                 8828.0             59039.0   \n",
       "2021-12-03   8951         210437.0                 9887.0            126162.0   \n",
       "2021-12-04   4822         133322.0                 6974.0             89945.0   \n",
       "2021-12-05   2744          52858.0                 5909.0             33768.0   \n",
       "2021-12-06      9              NaN                    NaN                 NaN   \n",
       "\n",
       "            certificate_vacinated  COVID19AtLeastOneDosePersons  \\\n",
       "datum                                                             \n",
       "2020-02-24                    NaN                           NaN   \n",
       "2020-02-25                    NaN                           NaN   \n",
       "2020-02-26                    NaN                           NaN   \n",
       "2020-02-27                    NaN                           NaN   \n",
       "2020-02-28                    NaN                           NaN   \n",
       "...                           ...                           ...   \n",
       "2021-12-02                69965.0                        3948.0   \n",
       "2021-12-03                74388.0                        4880.0   \n",
       "2021-12-04                36403.0                        3671.0   \n",
       "2021-12-05                13181.0                         832.0   \n",
       "2021-12-06                    NaN                           NaN   \n",
       "\n",
       "            COVID19FirstBoosterPersons  COVID19FullyVaccPersons  \\\n",
       "datum                                                             \n",
       "2020-02-24                         NaN                      NaN   \n",
       "2020-02-25                         NaN                      NaN   \n",
       "2020-02-26                         NaN                      NaN   \n",
       "2020-02-27                         NaN                      NaN   \n",
       "2020-02-28                         NaN                      NaN   \n",
       "...                                ...                      ...   \n",
       "2021-12-02                     53590.0                   4060.0   \n",
       "2021-12-03                     55271.0                   5832.0   \n",
       "2021-12-04                     26665.0                   3394.0   \n",
       "2021-12-05                      7961.0                    424.0   \n",
       "2021-12-06                         NaN                      NaN   \n",
       "\n",
       "            COVID19PartiallyVaccPersons  hopsitalisation  death  \n",
       "datum                                                            \n",
       "2020-02-24                          NaN                5      0  \n",
       "2020-02-25                          NaN                4      0  \n",
       "2020-02-26                          NaN                9      0  \n",
       "2020-02-27                          NaN                5      0  \n",
       "2020-02-28                          NaN                5      0  \n",
       "...                                 ...              ...    ...  \n",
       "2021-12-02                       -112.0               67     17  \n",
       "2021-12-03                       -952.0               35     14  \n",
       "2021-12-04                        277.0               24      6  \n",
       "2021-12-05                        408.0                6      5  \n",
       "2021-12-06                          NaN                0      0  \n",
       "\n",
       "[652 rows x 11 columns]>"
      ]
     },
     "execution_count": 185,
     "metadata": {},
     "output_type": "execute_result"
    }
   ],
   "source": [
    "\n",
    "death = extract_CH_entries('COVID19Death_geoRegion.csv','death')\n",
    "#join the death to all_data\n",
    "all_data = all_data.join(death, how='left',rsuffix='_other')\n",
    "verify_row_number(all_data,number_of_rows)\n",
    "all_data.head"
   ]
  },
  {
   "cell_type": "code",
   "execution_count": 186,
   "metadata": {},
   "outputs": [],
   "source": [
    "#save dataframe\n",
    "all_data.to_csv(f\"{stripped_data_path}all_data.csv\",index=True)"
   ]
  }
 ],
 "metadata": {
  "interpreter": {
   "hash": "039dda106b2f852f6e12ca5c87a4163c05419829d2e6fbf1277314f83c1cffb6"
  },
  "kernelspec": {
   "display_name": "Python 3 (ipykernel)",
   "language": "python",
   "name": "python3"
  },
  "language_info": {
   "codemirror_mode": {
    "name": "ipython",
    "version": 3
   },
   "file_extension": ".py",
   "mimetype": "text/x-python",
   "name": "python",
   "nbconvert_exporter": "python",
   "pygments_lexer": "ipython3",
   "version": "3.9.7"
  },
  "orig_nbformat": 4
 },
 "nbformat": 4,
 "nbformat_minor": 2
}
