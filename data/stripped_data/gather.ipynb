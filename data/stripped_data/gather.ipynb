{
 "cells": [
  {
   "cell_type": "code",
   "execution_count": 118,
   "metadata": {},
   "outputs": [],
   "source": [
    "# Usual Imports\n",
    "import pandas as pd"
   ]
  },
  {
   "cell_type": "code",
   "execution_count": 119,
   "metadata": {},
   "outputs": [],
   "source": [
    "#Configuration\n",
    "#\n",
    "#Path to stripped_data \n",
    "stripped_data_path = \"C:/Users/marco/IdeaProjects/ml-corona/data/stripped_data/\""
   ]
  },
  {
   "cell_type": "code",
   "execution_count": 120,
   "metadata": {},
   "outputs": [
    {
     "data": {
      "text/plain": [
       "<bound method NDFrame.head of             cases\n",
       "datum            \n",
       "2020-02-24      1\n",
       "2020-02-25      1\n",
       "2020-02-26     10\n",
       "2020-02-27     10\n",
       "2020-02-28     10\n",
       "...           ...\n",
       "2021-12-02  10081\n",
       "2021-12-03   8951\n",
       "2021-12-04   4822\n",
       "2021-12-05   2744\n",
       "2021-12-06      9\n",
       "\n",
       "[652 rows x 1 columns]>"
      ]
     },
     "execution_count": 120,
     "metadata": {},
     "output_type": "execute_result"
    }
   ],
   "source": [
    "#cases\n",
    "cases = pd.read_csv(f\"{stripped_data_path}COVID19Cases_geoRegion.csv\", index_col = 1, encoding = \"UTF-8\")\n",
    "#Remove all not having geoRegion = 'CH'\n",
    "cases = cases[cases['geoRegion'] == 'CH']\n",
    "\n",
    "#New dataframe with only datum and cases\n",
    "cases = cases[['entries']]\n",
    "all_data = cases.rename({'entries': 'cases'}, axis=1, inplace=False)\n",
    "all_data.head"
   ]
  },
  {
   "cell_type": "code",
   "execution_count": 121,
   "metadata": {},
   "outputs": [
    {
     "data": {
      "text/plain": [
       "<bound method NDFrame.head of                            type geoRegion type_variant  entries  sumTotal  \\\n",
       "date                                                                        \n",
       "2021-06-07  COVID19Certificates        CH          all      265       265   \n",
       "2021-06-07  COVID19Certificates        CH    recovered       14        14   \n",
       "2021-06-07  COVID19Certificates        CH       tested        2         2   \n",
       "2021-06-07  COVID19Certificates        CH   vaccinated      249       249   \n",
       "2021-06-08  COVID19Certificates        CH          all     3537      3802   \n",
       "...                         ...       ...          ...      ...       ...   \n",
       "2021-12-04  COVID19Certificates        CH   vaccinated    36403   8261135   \n",
       "2021-12-05  COVID19Certificates        CH          all    52858  18158107   \n",
       "2021-12-05  COVID19Certificates        CH    recovered     5909    505410   \n",
       "2021-12-05  COVID19Certificates        CH       tested    33768   9378381   \n",
       "2021-12-05  COVID19Certificates        CH   vaccinated    13181   8274316   \n",
       "\n",
       "                        version  \n",
       "date                             \n",
       "2021-06-07  2021-12-06_10-00-09  \n",
       "2021-06-07  2021-12-06_10-00-09  \n",
       "2021-06-07  2021-12-06_10-00-09  \n",
       "2021-06-07  2021-12-06_10-00-09  \n",
       "2021-06-08  2021-12-06_10-00-09  \n",
       "...                         ...  \n",
       "2021-12-04  2021-12-06_10-00-09  \n",
       "2021-12-05  2021-12-06_10-00-09  \n",
       "2021-12-05  2021-12-06_10-00-09  \n",
       "2021-12-05  2021-12-06_10-00-09  \n",
       "2021-12-05  2021-12-06_10-00-09  \n",
       "\n",
       "[728 rows x 6 columns]>"
      ]
     },
     "execution_count": 121,
     "metadata": {},
     "output_type": "execute_result"
    }
   ],
   "source": [
    "#Read certificate\n",
    "certificate = pd.read_csv(f\"{stripped_data_path}COVID19Certificates.csv\", index_col = 0, encoding = \"UTF-8\")\n",
    "certificate.head"
   ]
  },
  {
   "cell_type": "code",
   "execution_count": 122,
   "metadata": {},
   "outputs": [
    {
     "data": {
      "text/plain": [
       "<bound method NDFrame.head of type_variant     all  recovered  tested  vaccinated\n",
       "date                                               \n",
       "2021-06-07       265         14       2         249\n",
       "2021-06-08      3537         12       6        3519\n",
       "2021-06-09     19581         11       2       19568\n",
       "2021-06-10     90845         17       8       90820\n",
       "2021-06-11    142794         22      45      142727\n",
       "...              ...        ...     ...         ...\n",
       "2021-12-01    139491       9034   54389       76068\n",
       "2021-12-02    137832       8828   59039       69965\n",
       "2021-12-03    210437       9887  126162       74388\n",
       "2021-12-04    133322       6974   89945       36403\n",
       "2021-12-05     52858       5909   33768       13181\n",
       "\n",
       "[182 rows x 4 columns]>"
      ]
     },
     "execution_count": 122,
     "metadata": {},
     "output_type": "execute_result"
    }
   ],
   "source": [
    "#Values of rows in column type_variant as column all, recovered, tested,vaccinated\n",
    "certificate = certificate.pivot_table('entries', ['date'], 'type_variant')\n",
    "certificate.head"
   ]
  },
  {
   "cell_type": "code",
   "execution_count": 123,
   "metadata": {},
   "outputs": [
    {
     "data": {
      "text/plain": [
       "<bound method NDFrame.head of             cases       all  recovered    tested  vaccinated\n",
       "datum                                                       \n",
       "2020-02-24      1       NaN        NaN       NaN         NaN\n",
       "2020-02-25      1       NaN        NaN       NaN         NaN\n",
       "2020-02-26     10       NaN        NaN       NaN         NaN\n",
       "2020-02-27     10       NaN        NaN       NaN         NaN\n",
       "2020-02-28     10       NaN        NaN       NaN         NaN\n",
       "...           ...       ...        ...       ...         ...\n",
       "2021-12-02  10081  137832.0     8828.0   59039.0     69965.0\n",
       "2021-12-03   8951  210437.0     9887.0  126162.0     74388.0\n",
       "2021-12-04   4822  133322.0     6974.0   89945.0     36403.0\n",
       "2021-12-05   2744   52858.0     5909.0   33768.0     13181.0\n",
       "2021-12-06      9       NaN        NaN       NaN         NaN\n",
       "\n",
       "[652 rows x 5 columns]>"
      ]
     },
     "execution_count": 123,
     "metadata": {},
     "output_type": "execute_result"
    }
   ],
   "source": [
    "#join the certificate to all_data\n",
    "all_data = all_data.join(certificate, how='left',rsuffix='_other')\n",
    "all_data.head"
   ]
  },
  {
   "cell_type": "code",
   "execution_count": 124,
   "metadata": {},
   "outputs": [],
   "source": [
    "#save dataframe\n",
    "all_data.to_csv(f\"{stripped_data_path}all_data.csv\",index=True)"
   ]
  }
 ],
 "metadata": {
  "interpreter": {
   "hash": "039dda106b2f852f6e12ca5c87a4163c05419829d2e6fbf1277314f83c1cffb6"
  },
  "kernelspec": {
   "display_name": "Python 3 (ipykernel)",
   "language": "python",
   "name": "python3"
  },
  "language_info": {
   "codemirror_mode": {
    "name": "ipython",
    "version": 3
   },
   "file_extension": ".py",
   "mimetype": "text/x-python",
   "name": "python",
   "nbconvert_exporter": "python",
   "pygments_lexer": "ipython3",
   "version": "3.9.7"
  },
  "orig_nbformat": 4
 },
 "nbformat": 4,
 "nbformat_minor": 2
}
